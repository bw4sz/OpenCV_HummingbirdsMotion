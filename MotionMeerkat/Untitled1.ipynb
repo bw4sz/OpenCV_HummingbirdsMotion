{
 "cells": [
  {
   "cell_type": "code",
   "execution_count": 13,
   "metadata": {
    "collapsed": false
   },
   "outputs": [
    {
     "ename": "IndentationError",
     "evalue": "unexpected unindent (<ipython-input-13-e3a08043d510>, line 24)",
     "output_type": "error",
     "traceback": [
      "\u001b[1;36m  File \u001b[1;32m\"<ipython-input-13-e3a08043d510>\"\u001b[1;36m, line \u001b[1;32m24\u001b[0m\n\u001b[1;33m    #if ch=='x': break\u001b[0m\n\u001b[1;37m                      ^\u001b[0m\n\u001b[1;31mIndentationError\u001b[0m\u001b[1;31m:\u001b[0m unexpected unindent\n"
     ]
    }
   ],
   "source": [
    "#!/usr/bin/env python\n",
    "import motionClass\n",
    "import wrapper\n",
    "import arguments\n",
    "import traceback\n",
    "import sys\n",
    "import numpy\n",
    "#==================\n",
    "# MAIN ENTRY POINT\n",
    "#==================\n",
    "if __name__ == \"__main__\":\n",
    "    while True:\n",
    "        try:\n",
    "            motionVid=motionClass.Motion()\n",
    "            arguments.arguments(motionVid)\n",
    "            wrapper.wrap(motionVid)\n",
    "#reboot or exit?\n",
    "#if there were system arguments, immediately exit\n",
    "        #if len(sys.argv)>=2:\n",
    "            #break\n",
    "#ch = raw_input(\"Enter r to reboot, Enter x to exit \\n\")\n",
    "#if ch=='r': \n",
    "#continue\n",
    "#if ch=='x': break"
   ]
  },
  {
   "cell_type": "code",
   "execution_count": 7,
   "metadata": {
    "collapsed": false
   },
   "outputs": [
    {
     "name": "stdout",
     "output_type": "stream",
     "text": [
      "Enter r to reboot, Enter x to exit \n",
      "k\n"
     ]
    }
   ],
   "source": []
  },
  {
   "cell_type": "code",
   "execution_count": null,
   "metadata": {
    "collapsed": true
   },
   "outputs": [],
   "source": []
  },
  {
   "cell_type": "code",
   "execution_count": null,
   "metadata": {
    "collapsed": true
   },
   "outputs": [],
   "source": []
  }
 ],
 "metadata": {
  "kernelspec": {
   "display_name": "Python 2",
   "language": "python",
   "name": "python2"
  },
  "language_info": {
   "codemirror_mode": {
    "name": "ipython",
    "version": 2
   },
   "file_extension": ".py",
   "mimetype": "text/x-python",
   "name": "python",
   "nbconvert_exporter": "python",
   "pygments_lexer": "ipython2",
   "version": "2.7.11"
  }
 },
 "nbformat": 4,
 "nbformat_minor": 0
}
